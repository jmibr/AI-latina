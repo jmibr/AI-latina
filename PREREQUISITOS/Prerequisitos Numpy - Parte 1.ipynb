{
 "cells": [
  {
   "cell_type": "markdown",
   "metadata": {},
   "source": [
    "# Prerequisitos Numpy - Parte 1\n",
    "\n",
    "Numpy es una librería de computación numérica para ciencia de datos, vendría siendo como el matlab (a nivel de operaciones) pues lo hace de forma eficiente.\n",
    "\n",
    "Aqui aprenderemos a utilizar numpy importandolo para\n",
    "- Crear y manipular arreglos\n",
    "- Salvar arreglos\n",
    "- Cargar dichos arreglos\n",
    "- Partir y seleccionar sub arreglos\n",
    "- Indexamiento booleano o cambiar el subset del array\n",
    "- Ordenar los arreglos\n",
    "- Hacer operaciones de elementos"
   ]
  },
  {
   "cell_type": "markdown",
   "metadata": {},
   "source": [
    "Para instalar numpy lo puede hacer con pip o conda, pero con conda debería venir instalado intrinsecamente.  Podemos ver la version de numpy instalada con el siguiente comando:\n",
    "\n",
    "    pip show numpy\n",
    "    \n",
    "<img src=\"imgs/pipshownumpy.PNG\" width=\"850\"/>"
   ]
  },
  {
   "cell_type": "markdown",
   "metadata": {},
   "source": [
    "Si quisieramos tambien podemos instalar una versión de numpy inferior pero existente, por ejemplo, para instalar una versión anterior podemos hacer el downgrade como sigue:\n",
    "\n",
    "    conda install numpy==1.13.0"
   ]
  },
  {
   "cell_type": "markdown",
   "metadata": {},
   "source": [
    "Exortamos que se revise en cada momento que no tenga seguridad la librería numpy en su [manual en línea](https://numpy.org/)."
   ]
  },
  {
   "cell_type": "markdown",
   "metadata": {},
   "source": [
    "#### ¿Porqué debemos utilizar numpy?\n",
    "\n",
    "No es necesario pero esta librería tiene más de lo que necesitamos ademas de algebra de vectores.  Veamos un ejemplo de uso de numpy."
   ]
  },
  {
   "cell_type": "code",
   "execution_count": 1,
   "metadata": {},
   "outputs": [],
   "source": [
    "# importamos librerias\n",
    "import time as t\n",
    "import numpy as np"
   ]
  },
  {
   "cell_type": "code",
   "execution_count": 2,
   "metadata": {
    "tags": []
   },
   "outputs": [
    {
     "output_type": "stream",
     "name": "stdout",
     "text": "function elapsed  0.1600356101989746\n"
    }
   ],
   "source": [
    "# con funciones estandares\n",
    "x = np.random. random(1000000) # genera un arreglo aleatorio de datos enteros\n",
    "start = t.time()           # toma el tiempo inicial\n",
    "sum(x)/len(x)               # promedio\n",
    "end = t.time() - start     # calcula cuando demora el ciclo\n",
    "print('function elapsed ',end)"
   ]
  },
  {
   "cell_type": "code",
   "execution_count": 3,
   "metadata": {
    "tags": []
   },
   "outputs": [
    {
     "output_type": "stream",
     "name": "stdout",
     "text": "function elapsed  0.0020017623901367188\n"
    }
   ],
   "source": [
    "# con numpy\n",
    "x = np.random. random(1000000) # genera un arreglo aleatorio de datos enteros\n",
    "start = t.time()           # toma el tiempo inicial\n",
    "np.sum(x)/len(x)               # promedio\n",
    "end = t.time() - start     # calcula cuando demora el ciclo\n",
    "print('function elapsed ',end)"
   ]
  },
  {
   "cell_type": "markdown",
   "metadata": {},
   "source": [
    "####  Creando y salvando arreglos\n",
    "\n",
    "Podemos crear arreglos de python creando varias funciones built in.  Podemos crear arreglos de numpy tambien por medio de otras listas, que es lo que haremos aquí.  Veamos el ejemplo"
   ]
  },
  {
   "cell_type": "code",
   "execution_count": 4,
   "metadata": {
    "tags": []
   },
   "outputs": [
    {
     "output_type": "stream",
     "name": "stdout",
     "text": "[10 20 30 40] &lt;class &#39;numpy.ndarray&#39;&gt; int32\n"
    }
   ],
   "source": [
    "import numpy as np\n",
    "\n",
    "x = np.array([10, 20, 30, 40])\n",
    "print(x, type(x), x.dtype)"
   ]
  },
  {
   "cell_type": "markdown",
   "metadata": {},
   "source": [
    "Notamos entonces que podemos ver simplemente los valores de lista, establecer y ver el tipo de dato de numpy y también observamos que .dtype nos da el tipo de datos en el arreglo de numpy que es diferente a el tipo de variable que genera numpy.  Revisar la documentación para ver los diferentes estilos de datos que maneja numpy."
   ]
  },
  {
   "cell_type": "code",
   "execution_count": 5,
   "metadata": {},
   "outputs": [
    {
     "output_type": "execute_result",
     "data": {
      "text/plain": "(4,)"
     },
     "metadata": {},
     "execution_count": 5
    }
   ],
   "source": [
    "x.shape"
   ]
  },
  {
   "cell_type": "markdown",
   "metadata": {},
   "source": [
    "Esta funcion built in de numpy nos da el formato del arreglo, en este caso (4,).  Esto significa que es un arreglo de 4 filas, pero, vemos que despues de la coma no existe un 1, que sería lo lógico pues es un arreglo de 4x1 (filas x columnas).  Sucede que intrinsicamente numpy lo arregla de esta manera, es un 1.  En este caso, al arreglo se le conoce como vector.\n",
    "\n",
    "Si fueste un arreglo multidimensional tuvieramos esta parte con el número de filas del arreglo.  Veamos el siguiente ejemplo para arreglos multidimensionales."
   ]
  },
  {
   "cell_type": "code",
   "execution_count": 6,
   "metadata": {},
   "outputs": [],
   "source": [
    "x = np.array([[int(j*i) for i in range(1,5)] for j in range(1,6)])"
   ]
  },
  {
   "cell_type": "code",
   "execution_count": 7,
   "metadata": {},
   "outputs": [
    {
     "output_type": "execute_result",
     "data": {
      "text/plain": "(array([[ 1,  2,  3,  4],\n        [ 2,  4,  6,  8],\n        [ 3,  6,  9, 12],\n        [ 4,  8, 12, 16],\n        [ 5, 10, 15, 20]]),\n (5, 4),\n dtype(&#39;int32&#39;),\n 20)"
     },
     "metadata": {},
     "execution_count": 7
    }
   ],
   "source": [
    "x, x.shape, x.dtype, x.size"
   ]
  },
  {
   "cell_type": "markdown",
   "metadata": {},
   "source": [
    "Ahora observamos varias cosas.  El arreglo cuando imprimimos la forma vemos una dimensión más anotada dictaminando las columnas a cuatro, el arreglo es de dos dimensiones 5x4 de tipo int32.\n",
    "\n",
    "Tambien observamos que podemos tener la cantidad de elementos en el arreglo por medio del atributo .size.\n",
    "\n",
    "A los arreglos de una dimensión se les llama vectores, otra forma de llamarlos es arreglos de rank-1 (rango 1).  Y a estos arreglos de dos dimensiones rank-2.  Existen más dimensiones y mas rangos, pero por el momento lo dejaremos así y veremos más de estos en otra ocasión."
   ]
  },
  {
   "cell_type": "code",
   "execution_count": 8,
   "metadata": {
    "tags": []
   },
   "outputs": [
    {
     "output_type": "stream",
     "name": "stdout",
     "text": "[&#39;Inteligencia&#39; &#39;Artificial&#39;] (2,) &lt;class &#39;numpy.ndarray&#39;&gt; &lt;U12 2\n"
    }
   ],
   "source": [
    "x = np.array(['Inteligencia', 'Artificial'])\n",
    "print(x, x.shape, type(x), x.dtype, x.size)"
   ]
  },
  {
   "cell_type": "markdown",
   "metadata": {},
   "source": [
    "Observamos que  entonces no camba el tipo de arreglo, sigue siendo un ndarray, sin embargo el tipo interno de dato es almacenado en un formato llamado Unicode, en este caso es un unicode de 12 caracteres."
   ]
  },
  {
   "cell_type": "markdown",
   "metadata": {},
   "source": [
    "Pregunta!, que sucedería si creamos un arreglo mixto en numpy, vimos anteriormente que las listas (que son arreglos primitivos) no permiten este tipo de iteracción, en el ejemplo veremos que sucede."
   ]
  },
  {
   "cell_type": "code",
   "execution_count": 9,
   "metadata": {
    "tags": []
   },
   "outputs": [
    {
     "output_type": "stream",
     "name": "stdout",
     "text": "[&#39;1&#39; &#39;2&#39; &#39;3&#39; &#39;4&#39; &#39;Inteligencia&#39; &#39;Artificial&#39;] (6,) &lt;class &#39;numpy.ndarray&#39;&gt; &lt;U12 6\n"
    }
   ],
   "source": [
    "x = np.array([1,2,3,4, 'Inteligencia', 'Artificial'])\n",
    "print(x, x.shape, type(x), x.dtype, x.size)"
   ]
  },
  {
   "cell_type": "markdown",
   "metadata": {},
   "source": [
    "Bien, ya observó que python y especificamente numpy convierte al tipo de datos que abarque y pueda cumplir con el requerimiento.  Unicode de 12 elementos.  Veamos otro ejemplo de enteros y flotantes."
   ]
  },
  {
   "cell_type": "code",
   "execution_count": 10,
   "metadata": {
    "tags": []
   },
   "outputs": [
    {
     "output_type": "stream",
     "name": "stdout",
     "text": "[1. 2. 3. 4.] (4,) &lt;class &#39;numpy.ndarray&#39;&gt; float64 4\n"
    }
   ],
   "source": [
    "x = np.array([1,2,3.0,4])\n",
    "print(x, x.shape, type(x), x.dtype, x.size)"
   ]
  },
  {
   "cell_type": "markdown",
   "metadata": {},
   "source": [
    "También numpy hace la conversión del arreglo, en esta ocasión tenemos que transforma al tipo de dato por medio de algo llamado casting (upcasting en este caso) de tipo float64.  Con numpy también podemos especificar el tipo de datos para crear el arreglo.  Veamos el ejemplo."
   ]
  },
  {
   "cell_type": "code",
   "execution_count": 11,
   "metadata": {
    "tags": []
   },
   "outputs": [
    {
     "output_type": "stream",
     "name": "stdout",
     "text": "[1 2 3 4 5 6 8] (7,) &lt;class &#39;numpy.ndarray&#39;&gt; int32 7\n"
    }
   ],
   "source": [
    "x = np.array([1,2,3,4,5,6,8.2],dtype=np.int32)\n",
    "print(x, x.shape, type(x), x.dtype, x.size)"
   ]
  },
  {
   "cell_type": "markdown",
   "metadata": {},
   "source": [
    "Esto sirve para forzar el arreglo para que sea de ese tipo de datos o forzarlos a este tipode datos."
   ]
  },
  {
   "cell_type": "markdown",
   "metadata": {},
   "source": [
    "Podemos entonces salvar el arreglo también y volver a cargarlo a memoria, veamos el ejemplo."
   ]
  },
  {
   "cell_type": "code",
   "execution_count": 12,
   "metadata": {},
   "outputs": [],
   "source": [
    "x = np.array([1,2,3,4])\n",
    "np.save('saved_array', x)\n",
    "del x # borramos la variable, solo como ejemplo"
   ]
  },
  {
   "cell_type": "markdown",
   "metadata": {},
   "source": [
    "Si revisa la carpeta (donde se encuentra alojado este notebook), se dará cuenta que existe un archivo *saved_array.npy* que representa el archivo guardado.  Para cargarlo vea el siguiente ejemplo"
   ]
  },
  {
   "cell_type": "code",
   "execution_count": 13,
   "metadata": {
    "scrolled": true
   },
   "outputs": [
    {
     "output_type": "error",
     "ename": "NameError",
     "evalue": "name &#39;x&#39; is not defined",
     "traceback": [
      "\u001b[1;31m---------------------------------------------------------------------------\u001b[0m",
      "\u001b[1;31mNameError\u001b[0m                                 Traceback (most recent call last)",
      "\u001b[1;32m&lt;ipython-input-13-2bef36c18816&gt;\u001b[0m in \u001b[0;36m&lt;module&gt;\u001b[1;34m\u001b[0m\n\u001b[1;32m----&gt; 1\u001b[1;33m \u001b[0mtype\u001b[0m\u001b[1;33m(\u001b[0m\u001b[0mx\u001b[0m\u001b[1;33m)\u001b[0m \u001b[1;31m# al ejecutar nos dará error, porque no existe en memoria, fue borrada anteriormente\u001b[0m\u001b[1;33m\u001b[0m\u001b[1;33m\u001b[0m\u001b[0m\n\u001b[0m",
      "\u001b[1;31mNameError\u001b[0m: name &#39;x&#39; is not defined"
     ]
    }
   ],
   "source": [
    "type(x) # al ejecutar nos dará error, porque no existe en memoria, fue borrada anteriormente"
   ]
  },
  {
   "cell_type": "markdown",
   "metadata": {},
   "source": [
    "En lineas anteriores vemos que borré la variable x y lo comprobamos por medio de viendo el tipo, ahora vamos a cargar los datos del arreglo en la variable x"
   ]
  },
  {
   "cell_type": "code",
   "execution_count": 14,
   "metadata": {
    "tags": []
   },
   "outputs": [
    {
     "output_type": "stream",
     "name": "stdout",
     "text": "[1 2 3 4]\n"
    }
   ],
   "source": [
    "x = np.load('saved_array.npy')\n",
    "print(x)"
   ]
  },
  {
   "cell_type": "markdown",
   "metadata": {},
   "source": [
    "### Utilizando funciones built-in para crear ndarrays\n",
    "\n",
    "Debajo vemos la manera estándar de creación de arreglos, pero en las siguientes líneas vemos que numpy ofrece crear más tipos de arreglos ademas de estos, son útiles para cualquier tipo de situación y más en la parte científica de python."
   ]
  },
  {
   "cell_type": "code",
   "execution_count": 15,
   "metadata": {},
   "outputs": [
    {
     "output_type": "execute_result",
     "data": {
      "text/plain": "array([ 1,  2,  3,  4,  5,  6,  7,  8,  9, 10])"
     },
     "metadata": {},
     "execution_count": 15
    }
   ],
   "source": [
    "x = [1,2,3,4,5,6,7,8,9,10]\n",
    "np.array(x)"
   ]
  },
  {
   "cell_type": "markdown",
   "metadata": {},
   "source": [
    "Veamos como crear un arreglo de ceros en numpy.  Simplemente llamamos la función zeros() donde la entrada es un tuple que simboliza el tamaño del arreglo, el cual puede ser unidimensional o multidimensional debido a que numpy ofrece la capacidad de trabajar con n-dimensional arrays."
   ]
  },
  {
   "cell_type": "code",
   "execution_count": 16,
   "metadata": {},
   "outputs": [
    {
     "output_type": "execute_result",
     "data": {
      "text/plain": "array([[0., 0., 0., 0., 0., 0., 0., 0.],\n       [0., 0., 0., 0., 0., 0., 0., 0.],\n       [0., 0., 0., 0., 0., 0., 0., 0.],\n       [0., 0., 0., 0., 0., 0., 0., 0.],\n       [0., 0., 0., 0., 0., 0., 0., 0.]])"
     },
     "metadata": {},
     "execution_count": 16
    }
   ],
   "source": [
    "x = np.zeros((5,8))\n",
    "x"
   ]
  },
  {
   "cell_type": "code",
   "execution_count": 17,
   "metadata": {
    "tags": []
   },
   "outputs": [
    {
     "output_type": "stream",
     "name": "stdout",
     "text": "[[1. 1. 1. 1.]\n [1. 1. 1. 1.]\n [1. 1. 1. 1.]]\n\n[[1. 0. 0. 0. 0.]\n [0. 1. 0. 0. 0.]\n [0. 0. 1. 0. 0.]\n [0. 0. 0. 1. 0.]\n [0. 0. 0. 0. 1.]]\n"
    }
   ],
   "source": [
    "x = np.ones((3,4))\n",
    "y = np.eye(5)\n",
    "print(x)\n",
    "print()\n",
    "print(y)"
   ]
  },
  {
   "cell_type": "markdown",
   "metadata": {},
   "source": [
    "Vemos que también podemos crear arreglos de unos y también una matriz identidad, para otros problemas de ciencia de datos este tipo de preparación de arreglos es importante, veamos el siguiente ejemplo de como crear un arreglo con un numero fijo de datos."
   ]
  },
  {
   "cell_type": "code",
   "execution_count": 18,
   "metadata": {
    "tags": []
   },
   "outputs": [
    {
     "output_type": "stream",
     "name": "stdout",
     "text": "[[2.2 2.2 2.2 2.2]\n [2.2 2.2 2.2 2.2]\n [2.2 2.2 2.2 2.2]\n [2.2 2.2 2.2 2.2]]\n"
    }
   ],
   "source": [
    "x = np.full((4,4),2.2)\n",
    "print(x)"
   ]
  },
  {
   "cell_type": "markdown",
   "metadata": {},
   "source": [
    "Excelente, la funcion built-in full() nos permite crear un arreglo con algun tipo de datos insertado.  Veamos como crear una matriz diagnonal con numeros arbitrarios, o mas bien, nuestros propios números."
   ]
  },
  {
   "cell_type": "code",
   "execution_count": 19,
   "metadata": {},
   "outputs": [
    {
     "output_type": "execute_result",
     "data": {
      "text/plain": "array([[1, 0, 0, 0],\n       [0, 2, 0, 0],\n       [0, 0, 3, 0],\n       [0, 0, 0, 4]])"
     },
     "metadata": {},
     "execution_count": 19
    }
   ],
   "source": [
    "x = np.diag([1, 2, 3, 4])\n",
    "x"
   ]
  },
  {
   "cell_type": "markdown",
   "metadata": {},
   "source": [
    "Muy util, pero que sucede si quiero una manera sencilla de crear vectores, numpy también ofrece una funcion para esto.  Podemos usar en numpy arange(start,step,stop).  Note que la generación de estos números con arange() siempre es entero."
   ]
  },
  {
   "cell_type": "code",
   "execution_count": 20,
   "metadata": {},
   "outputs": [
    {
     "output_type": "execute_result",
     "data": {
      "text/plain": "array([0, 1, 2, 3, 4, 5, 6, 7, 8, 9])"
     },
     "metadata": {},
     "execution_count": 20
    }
   ],
   "source": [
    "x = np.arange(10)\n",
    "x"
   ]
  },
  {
   "cell_type": "code",
   "execution_count": 21,
   "metadata": {},
   "outputs": [
    {
     "output_type": "execute_result",
     "data": {
      "text/plain": "array([2, 3, 4, 5, 6, 7, 8, 9])"
     },
     "metadata": {},
     "execution_count": 21
    }
   ],
   "source": [
    "x = np.arange(2,10)\n",
    "x"
   ]
  },
  {
   "cell_type": "code",
   "execution_count": 22,
   "metadata": {},
   "outputs": [
    {
     "output_type": "execute_result",
     "data": {
      "text/plain": "array([ 2,  5,  8, 11, 14, 17])"
     },
     "metadata": {},
     "execution_count": 22
    }
   ],
   "source": [
    "x = np.arange(2,20,3)\n",
    "x"
   ]
  },
  {
   "cell_type": "markdown",
   "metadata": {},
   "source": [
    "Para cuando queremos crear otro tipo de datos flotantes no utilizamos esta función sino una diferente llamada linspace() veamos el ejemplo."
   ]
  },
  {
   "cell_type": "code",
   "execution_count": 23,
   "metadata": {
    "tags": []
   },
   "outputs": [
    {
     "output_type": "stream",
     "name": "stdout",
     "text": "[ 0.          1.57894737  3.15789474  4.73684211  6.31578947  7.89473684\n  9.47368421 11.05263158 12.63157895 14.21052632 15.78947368 17.36842105\n 18.94736842 20.52631579 22.10526316 23.68421053 25.26315789 26.84210526\n 28.42105263 30.        ]\n"
    }
   ],
   "source": [
    "x = np.linspace(0, 30, 20)\n",
    "print(x)"
   ]
  },
  {
   "cell_type": "markdown",
   "metadata": {},
   "source": [
    "¿Qué hizo la función?, pues simple, los dos primeros datos son el inicio y el fin del arreglo y el útlimo argumento de la funcion linspace() nos dice cuantos datos existen en el arreglo, la función entonces intentará hacer extrapolaciones de los datos intermedios llenando el arreglo con los datos faltantes."
   ]
  },
  {
   "cell_type": "markdown",
   "metadata": {},
   "source": [
    "existe una posibilidad de hacer con linspace que no nos de (o mas bien trata de hacer fit a los datos que genera, para no tener tanta precision) veamos como."
   ]
  },
  {
   "cell_type": "code",
   "execution_count": 24,
   "metadata": {
    "tags": []
   },
   "outputs": [
    {
     "output_type": "stream",
     "name": "stdout",
     "text": "[ 0.   1.5  3.   4.5  6.   7.5  9.  10.5 12.  13.5 15.  16.5 18.  19.5\n 21.  22.5 24.  25.5 27.  28.5]\n"
    }
   ],
   "source": [
    "x = np.linspace(0, 30, 20, endpoint=False)\n",
    "print(x)"
   ]
  },
  {
   "cell_type": "markdown",
   "metadata": {},
   "source": [
    "Hasta el momento hemos utilizado las funciones anteriores para arreglos de una dimensión.  Pero nos tocará en casos y en especial en redes neuronales hacer la conversión de datos a un arreglo de diferente dimensión.  Veamos un ejemplo que clarifica este párrafo."
   ]
  },
  {
   "cell_type": "code",
   "execution_count": 25,
   "metadata": {
    "tags": []
   },
   "outputs": [
    {
     "output_type": "stream",
     "name": "stdout",
     "text": "[[ 0.   1.5  3.   4.5]\n [ 6.   7.5  9.  10.5]\n [12.  13.5 15.  16.5]\n [18.  19.5 21.  22.5]\n [24.  25.5 27.  28.5]]\n"
    }
   ],
   "source": [
    "x = np.reshape(x, (5,4))\n",
    "print(x)"
   ]
  },
  {
   "cell_type": "markdown",
   "metadata": {},
   "source": [
    "Si observamos anteriormente, el arreglo es de 20x1 pero ahora lo hemos convertidos a un arreglo de 5x4.  ¿Qué sucedería si aplicamos lo mismo pero para un arreglo de más variables de las que posee?"
   ]
  },
  {
   "cell_type": "code",
   "execution_count": 26,
   "metadata": {},
   "outputs": [
    {
     "output_type": "error",
     "ename": "ValueError",
     "evalue": "cannot reshape array of size 20 into shape (8,10)",
     "traceback": [
      "\u001b[1;31m---------------------------------------------------------------------------\u001b[0m",
      "\u001b[1;31mValueError\u001b[0m                                Traceback (most recent call last)",
      "\u001b[1;32m&lt;ipython-input-26-c6f65091b11a&gt;\u001b[0m in \u001b[0;36m&lt;module&gt;\u001b[1;34m\u001b[0m\n\u001b[1;32m----&gt; 1\u001b[1;33m \u001b[0mx\u001b[0m \u001b[1;33m=\u001b[0m \u001b[0mnp\u001b[0m\u001b[1;33m.\u001b[0m\u001b[0mreshape\u001b[0m\u001b[1;33m(\u001b[0m\u001b[0mx\u001b[0m\u001b[1;33m,\u001b[0m \u001b[1;33m(\u001b[0m\u001b[1;36m8\u001b[0m\u001b[1;33m,\u001b[0m\u001b[1;36m10\u001b[0m\u001b[1;33m)\u001b[0m\u001b[1;33m)\u001b[0m\u001b[1;33m\u001b[0m\u001b[1;33m\u001b[0m\u001b[0m\n\u001b[0m\u001b[0;32m      2\u001b[0m \u001b[0mprint\u001b[0m\u001b[1;33m(\u001b[0m\u001b[0mx\u001b[0m\u001b[1;33m)\u001b[0m\u001b[1;33m\u001b[0m\u001b[1;33m\u001b[0m\u001b[0m\n",
      "\u001b[1;32m&lt;__array_function__ internals&gt;\u001b[0m in \u001b[0;36mreshape\u001b[1;34m(*args, **kwargs)\u001b[0m\n",
      "\u001b[1;32m~\\anaconda3\\envs\\prereq\\lib\\site-packages\\numpy\\core\\fromnumeric.py\u001b[0m in \u001b[0;36mreshape\u001b[1;34m(a, newshape, order)\u001b[0m\n\u001b[0;32m    299\u001b[0m            [5, 6]])\n\u001b[0;32m    300\u001b[0m     &quot;&quot;&quot;\n\u001b[1;32m--&gt; 301\u001b[1;33m     \u001b[1;32mreturn\u001b[0m \u001b[0m_wrapfunc\u001b[0m\u001b[1;33m(\u001b[0m\u001b[0ma\u001b[0m\u001b[1;33m,\u001b[0m \u001b[1;34m&#39;reshape&#39;\u001b[0m\u001b[1;33m,\u001b[0m \u001b[0mnewshape\u001b[0m\u001b[1;33m,\u001b[0m \u001b[0morder\u001b[0m\u001b[1;33m=\u001b[0m\u001b[0morder\u001b[0m\u001b[1;33m)\u001b[0m\u001b[1;33m\u001b[0m\u001b[1;33m\u001b[0m\u001b[0m\n\u001b[0m\u001b[0;32m    302\u001b[0m \u001b[1;33m\u001b[0m\u001b[0m\n\u001b[0;32m    303\u001b[0m \u001b[1;33m\u001b[0m\u001b[0m\n",
      "\u001b[1;32m~\\anaconda3\\envs\\prereq\\lib\\site-packages\\numpy\\core\\fromnumeric.py\u001b[0m in \u001b[0;36m_wrapfunc\u001b[1;34m(obj, method, *args, **kwds)\u001b[0m\n\u001b[0;32m     59\u001b[0m \u001b[1;33m\u001b[0m\u001b[0m\n\u001b[0;32m     60\u001b[0m     \u001b[1;32mtry\u001b[0m\u001b[1;33m:\u001b[0m\u001b[1;33m\u001b[0m\u001b[1;33m\u001b[0m\u001b[0m\n\u001b[1;32m---&gt; 61\u001b[1;33m         \u001b[1;32mreturn\u001b[0m \u001b[0mbound\u001b[0m\u001b[1;33m(\u001b[0m\u001b[1;33m*\u001b[0m\u001b[0margs\u001b[0m\u001b[1;33m,\u001b[0m \u001b[1;33m**\u001b[0m\u001b[0mkwds\u001b[0m\u001b[1;33m)\u001b[0m\u001b[1;33m\u001b[0m\u001b[1;33m\u001b[0m\u001b[0m\n\u001b[0m\u001b[0;32m     62\u001b[0m     \u001b[1;32mexcept\u001b[0m \u001b[0mTypeError\u001b[0m\u001b[1;33m:\u001b[0m\u001b[1;33m\u001b[0m\u001b[1;33m\u001b[0m\u001b[0m\n\u001b[0;32m     63\u001b[0m         \u001b[1;31m# A TypeError occurs if the object does have such a method in its\u001b[0m\u001b[1;33m\u001b[0m\u001b[1;33m\u001b[0m\u001b[1;33m\u001b[0m\u001b[0m\n",
      "\u001b[1;31mValueError\u001b[0m: cannot reshape array of size 20 into shape (8,10)"
     ]
    }
   ],
   "source": [
    "x = np.reshape(x, (8,10))\n",
    "print(x)"
   ]
  },
  {
   "cell_type": "markdown",
   "metadata": {},
   "source": [
    "Lógico, estamos pidiendo un arreglo de 80 elementos pero el arreglo solamente tiene 20, como puede ver en la línea \n",
    "\n",
    "*ValueError:  cannot reshape array of size 20 into shape (8,10)*"
   ]
  },
  {
   "cell_type": "markdown",
   "metadata": {},
   "source": [
    "Algunas funciones de numpy nos permiten operar como métodos con notación de punto.  Veamos como podemos hacer el mismo resultado con una sola línea de código."
   ]
  },
  {
   "cell_type": "code",
   "execution_count": 27,
   "metadata": {
    "tags": []
   },
   "outputs": [
    {
     "output_type": "stream",
     "name": "stdout",
     "text": "[[ 0  1  2  3  4]\n [ 5  6  7  8  9]\n [10 11 12 13 14]\n [15 16 17 18 19]\n [20 21 22 23 24]\n [25 26 27 28 29]]\n"
    }
   ],
   "source": [
    "x = np.arange(30).reshape((6,5))\n",
    "print(x)"
   ]
  },
  {
   "cell_type": "code",
   "execution_count": 28,
   "metadata": {
    "tags": []
   },
   "outputs": [
    {
     "output_type": "stream",
     "name": "stdout",
     "text": "[[ 1.    2.45]\n [ 3.9   5.35]\n [ 6.8   8.25]\n [ 9.7  11.15]\n [12.6  14.05]\n [15.5  16.95]\n [18.4  19.85]\n [21.3  22.75]\n [24.2  25.65]\n [27.1  28.55]]\n"
    }
   ],
   "source": [
    "x = np.linspace(1, 30, 20, endpoint=False).reshape((10,2))\n",
    "print(x)"
   ]
  },
  {
   "cell_type": "markdown",
   "metadata": {},
   "source": [
    "Vimos entonces que podemos usar las funciones de numpy para hacer lo mismo en una sola línea, esto acelera la codificación y nos ayuda a entender lo que estamos ahciendo.\n",
    "\n",
    "Por ejemplo analizando la última línea de funcion vemos que:\n",
    "- Creamos un arreglo de inici en 1 fin en 30 con 20 elementos y comprimido en información\n",
    "- Luego lo formateamos y lo volvemos un arreglo multidimensional de 10x2"
   ]
  },
  {
   "cell_type": "markdown",
   "metadata": {},
   "source": [
    "Para redes neuronales nos interesa crear numeros o pesos aleatorios, numpy nos permite crear numeros aleatorios de numeros entre 0-1 de la siguiente manera."
   ]
  },
  {
   "cell_type": "code",
   "execution_count": 29,
   "metadata": {
    "tags": []
   },
   "outputs": [
    {
     "output_type": "stream",
     "name": "stdout",
     "text": "[[0.84470593 0.69606649 0.82845575 0.70355521 0.36057424 0.09204263\n  0.70779346 0.26044958 0.68982204]\n [0.0729945  0.89612818 0.14240021 0.89660194 0.38468388 0.91120756\n  0.61212459 0.63489781 0.12324224]\n [0.50160392 0.44509248 0.93702202 0.61351731 0.46783084 0.92558658\n  0.80747258 0.26948307 0.63461126]]\n"
    }
   ],
   "source": [
    "x = np.random.random((3,9))\n",
    "print(x)"
   ]
  },
  {
   "cell_type": "markdown",
   "metadata": {},
   "source": [
    "Vimos anterioremnte que podemos crear numeros aleatorios de punto fijo, pero también numpy nos permite crear numeros aleatorios de forma de una matriz multidimensional, veamos el ejemplo."
   ]
  },
  {
   "cell_type": "code",
   "execution_count": 30,
   "metadata": {
    "tags": []
   },
   "outputs": [
    {
     "output_type": "stream",
     "name": "stdout",
     "text": "[[ 5  8  6]\n [11 19 12]\n [12 18 16]\n [19 14 10]]\n"
    }
   ],
   "source": [
    "x = np.random.randint(2, 20, (4,3))\n",
    "print(x)"
   ]
  },
  {
   "cell_type": "markdown",
   "metadata": {},
   "source": [
    "Para estadistica nos interesa también ver datos de una distribución normal.  Observamos como numpy nos ofrece de manera fácil crear estos datos.  En las siguientes líneas crearemos una distribución normal de media 0 y desviación estándar de 0.2 dimensiones de 5x4"
   ]
  },
  {
   "cell_type": "code",
   "execution_count": 31,
   "metadata": {
    "tags": []
   },
   "outputs": [
    {
     "output_type": "stream",
     "name": "stdout",
     "text": "[[ 0.08846473 -0.13773479 -0.14987119 -0.32433505]\n [ 0.08160481  0.29076401  0.03316572 -0.28696241]\n [ 0.3308278   0.25142471  0.01340984  0.07136112]\n [ 0.20116679 -0.08745003 -0.45508145 -0.2407112 ]\n [ 0.12985675  0.19024207  0.34619383  0.01409947]]\n"
    }
   ],
   "source": [
    "x = np.random.normal(0, 0.2, size=(5, 4))\n",
    "print(x)"
   ]
  },
  {
   "cell_type": "code",
   "execution_count": 32,
   "metadata": {
    "tags": []
   },
   "outputs": [
    {
     "output_type": "stream",
     "name": "stdout",
     "text": "Media: 0.018021775969849628\nDesv Est: 0.2221261200603286\nMáximo: 0.3461938286347238\nMínimo: -0.45508145468038763\nTotal: 0.3604355193969926\n"
    }
   ],
   "source": [
    "mn = np.mean(x)\n",
    "st = np.std(x)\n",
    "ma = np.max(x)\n",
    "mi = np.min(x)\n",
    "su = np.sum(x)\n",
    "print(f'Media: {mn}\\nDesv Est: {st}\\nMáximo: {ma}\\nMínimo: {mi}\\nTotal: {su}')"
   ]
  },
  {
   "cell_type": "markdown",
   "metadata": {},
   "source": [
    "#### Accediendo. borrando e insertando elementos en los arreglos\n",
    "\n",
    "No nos hemos dado cuenta pero una propiedad de los arreglos de numpy es que son mutables, es decir podemos cambiar su contenido en cualquier momento y sin ningun inconveniente.\n",
    "\n",
    "También podemos hacer slicing de los arreglos para separar los datos.  En redes neuronales esto es util cuando hacemos el train y test set ademas de la validación cruzada para validar el training.\n",
    "\n",
    "También podemos verlos elemento por elemento o por conjunto de ellos.  Veamos el ejemplo."
   ]
  },
  {
   "cell_type": "code",
   "execution_count": 33,
   "metadata": {
    "tags": []
   },
   "outputs": [
    {
     "output_type": "stream",
     "name": "stdout",
     "text": "1st: 1\n3rd: 3\nlast 6\n"
    }
   ],
   "source": [
    "x = np.array([1,2,3,4,5,6])\n",
    "print('1st:',x[0])\n",
    "print('3rd:',x[2])\n",
    "print('last',x[-1])"
   ]
  },
  {
   "cell_type": "markdown",
   "metadata": {},
   "source": [
    "Indices positivos nos ayudan a acceder los elementos desde el inicio del arreglo y los elementos desde el final al inicio con índices negativos, note que el indice positivo comienza desde 0.  Veamos ahora ejemplos de arreglos multidimensionales."
   ]
  },
  {
   "cell_type": "code",
   "execution_count": 34,
   "metadata": {
    "tags": []
   },
   "outputs": [
    {
     "output_type": "stream",
     "name": "stdout",
     "text": "[[ 0  1]\n [ 2  3]\n [ 4  5]\n [ 6  7]\n [ 8  9]\n [10 11]\n [12 13]\n [14 15]\n [16 17]\n [18 19]]\n\nElemento en 0,0: 0\nElemento en 4,1: 9\nElemento en 9,1: 19\n"
    }
   ],
   "source": [
    "x = np.array(np.arange(20).reshape(10,2))\n",
    "print(x)\n",
    "print()\n",
    "print('Elemento en 0,0:', x[0,0])\n",
    "print('Elemento en 4,1:', x[4,1])\n",
    "print('Elemento en 9,1:', x[9,1])"
   ]
  },
  {
   "cell_type": "markdown",
   "metadata": {},
   "source": [
    "Para modificar elementos en un arreglo simplemente hacemos una asignación al valor del elemento a reemplazar."
   ]
  },
  {
   "cell_type": "code",
   "execution_count": 35,
   "metadata": {
    "tags": []
   },
   "outputs": [
    {
     "output_type": "stream",
     "name": "stdout",
     "text": "[[ 0  1]\n [ 2  3]\n [ 4  5]\n [ 6  7]\n [ 8  9]\n [10 11]\n [12 13]\n [14 15]\n [16 17]\n [18 -2]]\n"
    }
   ],
   "source": [
    "x[9,1] = -2\n",
    "print(x)"
   ]
  },
  {
   "cell_type": "markdown",
   "metadata": {},
   "source": [
    "Para borrar elementos simplemente podemos utilizar la función delete().  Cabe aclarar aqui que podemos decidir que borrar, borrar por filas o columnas.  Normalmente verá en algunas funciones, no solo en numpy el argumento *axis* \n",
    "- axis=0 equivale a fila\n",
    "- axis=1 equivale a columna\n",
    "\n",
    "Veamos un ejemplo de la posibilidad de borrar una sección del arreglo"
   ]
  },
  {
   "cell_type": "code",
   "execution_count": 36,
   "metadata": {
    "tags": []
   },
   "outputs": [
    {
     "output_type": "stream",
     "name": "stdout",
     "text": "[[ 0  1]\n [ 2  3]\n [ 4  5]\n [ 6  7]\n [ 8  9]\n [10 11]\n [12 13]\n [14 15]\n [16 17]\n [18 -2]]\n\n[[ 2  3]\n [ 4  5]\n [ 6  7]\n [ 8  9]\n [10 11]\n [12 13]\n [14 15]\n [16 17]\n [18 -2]]\n"
    }
   ],
   "source": [
    "y = np.delete(x, 0, axis=0)\n",
    "print(x)\n",
    "print()\n",
    "print(y)"
   ]
  },
  {
   "cell_type": "code",
   "execution_count": 37,
   "metadata": {
    "tags": []
   },
   "outputs": [
    {
     "output_type": "stream",
     "name": "stdout",
     "text": "[[ 0  1]\n [ 2  3]\n [ 4  5]\n [ 6  7]\n [ 8  9]\n [10 11]\n [12 13]\n [14 15]\n [16 17]\n [18 -2]]\n\n[[ 1]\n [ 3]\n [ 5]\n [ 7]\n [ 9]\n [11]\n [13]\n [15]\n [17]\n [-2]]\n"
    }
   ],
   "source": [
    "y = np.delete(x, 0, axis=1)\n",
    "print(x)\n",
    "print()\n",
    "print(y)"
   ]
  },
  {
   "cell_type": "markdown",
   "metadata": {},
   "source": [
    "Podemos también agregar uno o mas elementos a un arreglo, veamos como podemos hacer esto con un arreglo unidimensional"
   ]
  },
  {
   "cell_type": "code",
   "execution_count": 38,
   "metadata": {},
   "outputs": [
    {
     "output_type": "execute_result",
     "data": {
      "text/plain": "array([0, 1, 2, 3, 4, 5, 6, 7, 8, 9])"
     },
     "metadata": {},
     "execution_count": 38
    }
   ],
   "source": [
    "x = np.arange(10)\n",
    "x"
   ]
  },
  {
   "cell_type": "code",
   "execution_count": 39,
   "metadata": {},
   "outputs": [
    {
     "output_type": "execute_result",
     "data": {
      "text/plain": "array([   0,    1,    2,    3,    4,    5,    6,    7,    8,    9, -999])"
     },
     "metadata": {},
     "execution_count": 39
    }
   ],
   "source": [
    "x = np.append(x, -999)\n",
    "x"
   ]
  },
  {
   "cell_type": "markdown",
   "metadata": {},
   "source": [
    "Digamos ahora que queremos agregar más información que un solo dato.  También podemos hacerlo, observar el ejemplo siguiente."
   ]
  },
  {
   "cell_type": "code",
   "execution_count": 40,
   "metadata": {
    "tags": []
   },
   "outputs": [
    {
     "output_type": "stream",
     "name": "stdout",
     "text": "[ 0  1  2  3  4  5  6  7  8  9 20 30]\n"
    }
   ],
   "source": [
    "x = np.array(np.arange(10))\n",
    "x = np.append(x, [20, 30])\n",
    "print(x)"
   ]
  },
  {
   "cell_type": "markdown",
   "metadata": {},
   "source": [
    "Para arreglos multidimensionales opera igualmente y también podemos agregar datos por filas y por columnas, simplemente no la hemos utilizado en el ejemplo anterior debido a que siempre hay una columna para un vector."
   ]
  },
  {
   "cell_type": "code",
   "execution_count": 41,
   "metadata": {
    "tags": []
   },
   "outputs": [
    {
     "output_type": "stream",
     "name": "stdout",
     "text": "[[ 2.          2.42105263  2.84210526  3.26315789]\n [ 3.68421053  4.10526316  4.52631579  4.94736842]\n [ 5.36842105  5.78947368  6.21052632  6.63157895]\n [ 7.05263158  7.47368421  7.89473684  8.31578947]\n [ 8.73684211  9.15789474  9.57894737 10.        ]] \n\n [[ 2.          2.42105263  2.84210526  3.26315789]\n [ 3.68421053  4.10526316  4.52631579  4.94736842]\n [ 5.36842105  5.78947368  6.21052632  6.63157895]\n [ 7.05263158  7.47368421  7.89473684  8.31578947]\n [ 8.73684211  9.15789474  9.57894737 10.        ]\n [ 1.          2.          3.          4.        ]]\n"
    }
   ],
   "source": [
    "x = np.array(np.linspace(2, 10, 20)).reshape((5,4))\n",
    "y = np.append(x,[[1,2,3,4]],axis=0)\n",
    "print(x,'\\n\\n',y)"
   ]
  },
  {
   "cell_type": "code",
   "execution_count": 42,
   "metadata": {
    "tags": []
   },
   "outputs": [
    {
     "output_type": "stream",
     "name": "stdout",
     "text": "[[ 2.          2.42105263  2.84210526  3.26315789]\n [ 3.68421053  4.10526316  4.52631579  4.94736842]\n [ 5.36842105  5.78947368  6.21052632  6.63157895]\n [ 7.05263158  7.47368421  7.89473684  8.31578947]\n [ 8.73684211  9.15789474  9.57894737 10.        ]] \n\n [[ 2.          2.42105263  2.84210526  3.26315789  1.        ]\n [ 3.68421053  4.10526316  4.52631579  4.94736842  2.        ]\n [ 5.36842105  5.78947368  6.21052632  6.63157895  3.        ]\n [ 7.05263158  7.47368421  7.89473684  8.31578947  4.        ]\n [ 8.73684211  9.15789474  9.57894737 10.          5.        ]]\n"
    }
   ],
   "source": [
    "x = np.array(np.linspace(2, 10, 20)).reshape((5,4))\n",
    "y = np.append(x,[[1],[2],[3],[4],[5]],axis=1)\n",
    "print(x,'\\n\\n',y)"
   ]
  },
  {
   "cell_type": "markdown",
   "metadata": {},
   "source": [
    "Note que para que podamos insertar en un arreglo tenemos que tener el mismo valor de filas y de columnas, dependiendo de que vamos a insertar, de lo contrario tendremos un error como el siguiente"
   ]
  },
  {
   "cell_type": "code",
   "execution_count": 43,
   "metadata": {},
   "outputs": [
    {
     "output_type": "error",
     "ename": "ValueError",
     "evalue": "all the input arrays must have same number of dimensions, but the array at index 0 has 2 dimension(s) and the array at index 1 has 1 dimension(s)",
     "traceback": [
      "\u001b[1;31m---------------------------------------------------------------------------\u001b[0m",
      "\u001b[1;31mValueError\u001b[0m                                Traceback (most recent call last)",
      "\u001b[1;32m&lt;ipython-input-43-63ee2ea0fdaa&gt;\u001b[0m in \u001b[0;36m&lt;module&gt;\u001b[1;34m\u001b[0m\n\u001b[0;32m      1\u001b[0m \u001b[0mx\u001b[0m \u001b[1;33m=\u001b[0m \u001b[0mnp\u001b[0m\u001b[1;33m.\u001b[0m\u001b[0marray\u001b[0m\u001b[1;33m(\u001b[0m\u001b[1;33m[\u001b[0m\u001b[1;33m[\u001b[0m\u001b[1;36m1\u001b[0m\u001b[1;33m,\u001b[0m\u001b[1;36m2\u001b[0m\u001b[1;33m,\u001b[0m\u001b[1;36m4\u001b[0m\u001b[1;33m]\u001b[0m\u001b[1;33m,\u001b[0m\u001b[1;33m[\u001b[0m\u001b[1;36m4\u001b[0m\u001b[1;33m,\u001b[0m\u001b[1;36m5\u001b[0m\u001b[1;33m,\u001b[0m\u001b[1;36m6\u001b[0m\u001b[1;33m]\u001b[0m\u001b[1;33m]\u001b[0m\u001b[1;33m)\u001b[0m\u001b[1;33m\u001b[0m\u001b[1;33m\u001b[0m\u001b[0m\n\u001b[1;32m----&gt; 2\u001b[1;33m \u001b[0mx\u001b[0m \u001b[1;33m=\u001b[0m \u001b[0mnp\u001b[0m\u001b[1;33m.\u001b[0m\u001b[0mappend\u001b[0m\u001b[1;33m(\u001b[0m\u001b[0mx\u001b[0m\u001b[1;33m,\u001b[0m \u001b[1;33m[\u001b[0m\u001b[1;36m7\u001b[0m\u001b[1;33m,\u001b[0m\u001b[1;36m8\u001b[0m\u001b[1;33m,\u001b[0m\u001b[1;36m9\u001b[0m\u001b[1;33m,\u001b[0m\u001b[1;36m10\u001b[0m\u001b[1;33m]\u001b[0m\u001b[1;33m,\u001b[0m \u001b[0maxis\u001b[0m\u001b[1;33m=\u001b[0m\u001b[1;36m0\u001b[0m\u001b[1;33m)\u001b[0m\u001b[1;33m\u001b[0m\u001b[1;33m\u001b[0m\u001b[0m\n\u001b[0m",
      "\u001b[1;32m&lt;__array_function__ internals&gt;\u001b[0m in \u001b[0;36mappend\u001b[1;34m(*args, **kwargs)\u001b[0m\n",
      "\u001b[1;32m~\\anaconda3\\envs\\prereq\\lib\\site-packages\\numpy\\lib\\function_base.py\u001b[0m in \u001b[0;36mappend\u001b[1;34m(arr, values, axis)\u001b[0m\n\u001b[0;32m   4691\u001b[0m         \u001b[0mvalues\u001b[0m \u001b[1;33m=\u001b[0m \u001b[0mravel\u001b[0m\u001b[1;33m(\u001b[0m\u001b[0mvalues\u001b[0m\u001b[1;33m)\u001b[0m\u001b[1;33m\u001b[0m\u001b[1;33m\u001b[0m\u001b[0m\n\u001b[0;32m   4692\u001b[0m         \u001b[0maxis\u001b[0m \u001b[1;33m=\u001b[0m \u001b[0marr\u001b[0m\u001b[1;33m.\u001b[0m\u001b[0mndim\u001b[0m\u001b[1;33m-\u001b[0m\u001b[1;36m1\u001b[0m\u001b[1;33m\u001b[0m\u001b[1;33m\u001b[0m\u001b[0m\n\u001b[1;32m-&gt; 4693\u001b[1;33m     \u001b[1;32mreturn\u001b[0m \u001b[0mconcatenate\u001b[0m\u001b[1;33m(\u001b[0m\u001b[1;33m(\u001b[0m\u001b[0marr\u001b[0m\u001b[1;33m,\u001b[0m \u001b[0mvalues\u001b[0m\u001b[1;33m)\u001b[0m\u001b[1;33m,\u001b[0m \u001b[0maxis\u001b[0m\u001b[1;33m=\u001b[0m\u001b[0maxis\u001b[0m\u001b[1;33m)\u001b[0m\u001b[1;33m\u001b[0m\u001b[1;33m\u001b[0m\u001b[0m\n\u001b[0m\u001b[0;32m   4694\u001b[0m \u001b[1;33m\u001b[0m\u001b[0m\n\u001b[0;32m   4695\u001b[0m \u001b[1;33m\u001b[0m\u001b[0m\n",
      "\u001b[1;32m&lt;__array_function__ internals&gt;\u001b[0m in \u001b[0;36mconcatenate\u001b[1;34m(*args, **kwargs)\u001b[0m\n",
      "\u001b[1;31mValueError\u001b[0m: all the input arrays must have same number of dimensions, but the array at index 0 has 2 dimension(s) and the array at index 1 has 1 dimension(s)"
     ]
    }
   ],
   "source": [
    "x = np.array([[1,2,4],[4,5,6]])\n",
    "x = np.append(x, [7,8,9,10], axis=0)"
   ]
  },
  {
   "cell_type": "markdown",
   "metadata": {},
   "source": [
    "Veamos ahora como insertar elementos dentro de un arreglo.  Podemos insertar elementos entre el arreglo utilizando la funcion insert()"
   ]
  },
  {
   "cell_type": "code",
   "execution_count": 44,
   "metadata": {},
   "outputs": [
    {
     "output_type": "execute_result",
     "data": {
      "text/plain": "array([ 2,  4,  8, 16])"
     },
     "metadata": {},
     "execution_count": 44
    }
   ],
   "source": [
    "x = np.array([2,4,8,16])\n",
    "x"
   ]
  },
  {
   "cell_type": "code",
   "execution_count": 45,
   "metadata": {
    "tags": []
   },
   "outputs": [
    {
     "output_type": "stream",
     "name": "stdout",
     "text": "[ 2  4  8 16]\n\n[ 2  5  6  7  8  4  8 16]\n"
    }
   ],
   "source": [
    "y = np.insert(x, 1, [5,6,7,8], axis=0)\n",
    "print(x)\n",
    "print()\n",
    "print(y)"
   ]
  },
  {
   "cell_type": "code",
   "execution_count": 46,
   "metadata": {
    "tags": []
   },
   "outputs": [
    {
     "output_type": "stream",
     "name": "stdout",
     "text": "[[ 2  4]\n [ 8 16]]\n\n[[ 2 32  4]\n [ 8 64 16]]\n"
    }
   ],
   "source": [
    "x = np.reshape(x, (2,2))\n",
    "y = np.insert(x, 1, [32, 64], axis=1)\n",
    "print(x)\n",
    "print()\n",
    "print(y)"
   ]
  },
  {
   "cell_type": "markdown",
   "metadata": {},
   "source": [
    "Para arreglos multidimensionales, las inserciones se hacemn por medio de vstack() o hstack(). Cabe recalcar que necesitamos que las partes concuerden en dimensiones.  Veamos un ejemplo."
   ]
  },
  {
   "cell_type": "markdown",
   "metadata": {},
   "source": [
    "Veamos primero stacking vertical"
   ]
  },
  {
   "cell_type": "code",
   "execution_count": 47,
   "metadata": {
    "tags": []
   },
   "outputs": [
    {
     "output_type": "stream",
     "name": "stdout",
     "text": "[[0 1]\n [2 3]\n [4 5]\n [6 7]\n [8 9]]\n"
    }
   ],
   "source": [
    "x = np.arange(10).reshape((5,2))\n",
    "print(x)"
   ]
  },
  {
   "cell_type": "code",
   "execution_count": 48,
   "metadata": {
    "tags": []
   },
   "outputs": [
    {
     "output_type": "stream",
     "name": "stdout",
     "text": "[[0 1]\n [2 3]]\n"
    }
   ],
   "source": [
    "y = np.arange(4).reshape((2,2))\n",
    "print(y)"
   ]
  },
  {
   "cell_type": "code",
   "execution_count": 49,
   "metadata": {
    "tags": []
   },
   "outputs": [
    {
     "output_type": "stream",
     "name": "stdout",
     "text": "[[0 1]\n [2 3]\n [4 5]\n [6 7]\n [8 9]\n [0 1]\n [2 3]]\n"
    }
   ],
   "source": [
    "z = np.vstack((x,y))\n",
    "print(z)"
   ]
  },
  {
   "cell_type": "markdown",
   "metadata": {},
   "source": [
    "Ahora veamos stacking horizontal"
   ]
  },
  {
   "cell_type": "code",
   "execution_count": 50,
   "metadata": {
    "tags": []
   },
   "outputs": [
    {
     "output_type": "stream",
     "name": "stdout",
     "text": "[[0 1]\n [2 3]\n [4 5]\n [6 7]\n [8 9]]\n"
    }
   ],
   "source": [
    "x = np.arange(10).reshape((5,2))\n",
    "print(x)"
   ]
  },
  {
   "cell_type": "code",
   "execution_count": 51,
   "metadata": {
    "tags": []
   },
   "outputs": [
    {
     "output_type": "stream",
     "name": "stdout",
     "text": "[[0]\n [1]\n [2]\n [3]\n [4]]\n"
    }
   ],
   "source": [
    "y = np.arange(5).reshape((5,-1))\n",
    "print(y)"
   ]
  },
  {
   "cell_type": "code",
   "execution_count": 52,
   "metadata": {
    "scrolled": true,
    "tags": []
   },
   "outputs": [
    {
     "output_type": "stream",
     "name": "stdout",
     "text": "[[0 1 0]\n [2 3 1]\n [4 5 2]\n [6 7 3]\n [8 9 4]]\n"
    }
   ],
   "source": [
    "z = np.hstack((x,y))\n",
    "print(z)"
   ]
  },
  {
   "cell_type": "markdown",
   "metadata": {},
   "source": [
    "#### Division por partes de numpy arrays\n",
    "\n",
    "Slicing funciona igual que como hemos visto en las listas.  Podemos indexar de las siguientes maneras\n",
    "- [inicio:fin]\n",
    "- [inicio:]\n",
    "- [:fin]\n",
    "\n",
    "Si observó modemos hacer slicing sin especificar algunos indices, fin o inicio respectivamente.\n",
    "\n",
    "También podemos hacer sub slicing de arreglos multidimensionales, veamos los siguientes ejemplos."
   ]
  },
  {
   "cell_type": "code",
   "execution_count": 53,
   "metadata": {
    "tags": []
   },
   "outputs": [
    {
     "output_type": "stream",
     "name": "stdout",
     "text": "[[ 1  2  3  4]\n [ 5  6  7  8]\n [ 9 10 11 12]\n [13 14 15 16]\n [17 18 19 20]]\n"
    }
   ],
   "source": [
    "x = np.arange(1,21).reshape((5,4))\n",
    "print(x)"
   ]
  },
  {
   "cell_type": "code",
   "execution_count": 54,
   "metadata": {
    "tags": []
   },
   "outputs": [
    {
     "output_type": "stream",
     "name": "stdout",
     "text": "[[ 6  7  8]\n [10 11 12]]\n"
    }
   ],
   "source": [
    "y = x[1:3,1:4]\n",
    "print(y)"
   ]
  },
  {
   "cell_type": "markdown",
   "metadata": {},
   "source": [
    "OK, es un poco confuso a veces verlo.  Para entenderlo mejor tenemos que hacer simple uso de esta manera, el primer indice siempre esta incluido y el último índice esta excluido, por consiguiente:\n",
    "- 1:3 (incluye el primer índice y excluye el último, es decir solo realizamos la selección de la fila 1 hasta fila 2 (ó 3-1).\n",
    "- 1:4 (incluye el primer índice y excluye el último, es decir solo realizamos la selección de la col 1 hasta col 3 (ó 4-1). \n",
    "\n",
    "Veamos más ejemplos."
   ]
  },
  {
   "cell_type": "code",
   "execution_count": 55,
   "metadata": {
    "tags": []
   },
   "outputs": [
    {
     "output_type": "stream",
     "name": "stdout",
     "text": "[[ 1  2  3  4]\n [ 5  6  7  8]\n [ 9 10 11 12]\n [13 14 15 16]\n [17 18 19 20]]\n\n[[ 5  6  7]\n [ 9 10 11]\n [13 14 15]\n [17 18 19]]\n"
    }
   ],
   "source": [
    "print(x)\n",
    "print()\n",
    "print(x[1: , :3])"
   ]
  },
  {
   "cell_type": "markdown",
   "metadata": {},
   "source": [
    "El siguiente solamente toma todos los valores de fila pero solo la columna 2"
   ]
  },
  {
   "cell_type": "code",
   "execution_count": 56,
   "metadata": {
    "tags": []
   },
   "outputs": [
    {
     "output_type": "stream",
     "name": "stdout",
     "text": "[ 3  7 11 15 19] (5,)\n"
    }
   ],
   "source": [
    "y = x[:,2]\n",
    "print(y, y.shape)"
   ]
  },
  {
   "cell_type": "markdown",
   "metadata": {},
   "source": [
    "Ahora todos los valores de la columna pero solo la tercera fila"
   ]
  },
  {
   "cell_type": "code",
   "execution_count": 57,
   "metadata": {
    "tags": []
   },
   "outputs": [
    {
     "output_type": "stream",
     "name": "stdout",
     "text": "[13 14 15 16] (4,)\n"
    }
   ],
   "source": [
    "y = x[3, :]\n",
    "print(y, y.shape)"
   ]
  },
  {
   "cell_type": "markdown",
   "metadata": {},
   "source": [
    "¿Nota que solamente esta retornanod vectores rango 1 tanto para filas como para columnas? \n",
    "\n",
    "Si queremos seleccionar efectivamente que retorne en modo que deseamos, entonces debemos ser un poco más específicos"
   ]
  },
  {
   "cell_type": "code",
   "execution_count": 58,
   "metadata": {
    "scrolled": true,
    "tags": []
   },
   "outputs": [
    {
     "output_type": "stream",
     "name": "stdout",
     "text": "[[13 14 15 16]] (1, 4)\n"
    }
   ],
   "source": [
    "y = x[3:4, :]\n",
    "print(y, y.shape)"
   ]
  },
  {
   "cell_type": "code",
   "execution_count": 59,
   "metadata": {
    "tags": []
   },
   "outputs": [
    {
     "output_type": "stream",
     "name": "stdout",
     "text": "[[ 3]\n [ 7]\n [11]\n [15]\n [19]] (5, 1)\n"
    }
   ],
   "source": [
    "y = x[:,2:3]\n",
    "print(y, y.shape)"
   ]
  },
  {
   "cell_type": "markdown",
   "metadata": {},
   "source": [
    "Un error común de principiantes es cuando se manipulan los arreglos pensar que son una copia del arreglo original, esto incurre en errores de codigo a futuro.\n",
    "\n",
    "Veamos un ejemplo de lo que acabamos de mencionar.  Vamos a crear un arreglo, copiar un pedazo a una variable y cambiar el valor para luego imprimir ambas y ver su resultado."
   ]
  },
  {
   "cell_type": "code",
   "execution_count": 60,
   "metadata": {
    "tags": []
   },
   "outputs": [
    {
     "output_type": "stream",
     "name": "stdout",
     "text": "[[ 0.          0.52631579  1.05263158  1.57894737]\n [ 2.10526316  2.63157895  3.15789474  3.68421053]\n [ 4.21052632  4.73684211  5.26315789  5.78947368]\n [ 6.31578947  6.84210526  7.36842105  7.89473684]\n [ 8.42105263  8.94736842  9.47368421 10.        ]]\n"
    }
   ],
   "source": [
    "x = np.linspace(0,10,20).reshape((5,4))\n",
    "print(x)"
   ]
  },
  {
   "cell_type": "code",
   "execution_count": 61,
   "metadata": {
    "tags": []
   },
   "outputs": [
    {
     "output_type": "stream",
     "name": "stdout",
     "text": "[[ 3.15789474  3.68421053]\n [ 5.26315789  5.78947368]\n [ 7.36842105  7.89473684]\n [ 9.47368421 10.        ]]\n"
    }
   ],
   "source": [
    "y = x[1:, 2:]\n",
    "print(y)"
   ]
  },
  {
   "cell_type": "code",
   "execution_count": 62,
   "metadata": {},
   "outputs": [
    {
     "output_type": "execute_result",
     "data": {
      "text/plain": "array([[ 3.15789474,  3.68421053],\n       [ 5.26315789,  5.78947368],\n       [ 7.36842105,  7.89473684],\n       [ 9.47368421, -1.        ]])"
     },
     "metadata": {},
     "execution_count": 62
    }
   ],
   "source": [
    "y[-1, -1] = -1\n",
    "y"
   ]
  },
  {
   "cell_type": "code",
   "execution_count": 63,
   "metadata": {},
   "outputs": [
    {
     "output_type": "execute_result",
     "data": {
      "text/plain": "array([[ 0.        ,  0.52631579,  1.05263158,  1.57894737],\n       [ 2.10526316,  2.63157895,  3.15789474,  3.68421053],\n       [ 4.21052632,  4.73684211,  5.26315789,  5.78947368],\n       [ 6.31578947,  6.84210526,  7.36842105,  7.89473684],\n       [ 8.42105263,  8.94736842,  9.47368421, -1.        ]])"
     },
     "metadata": {},
     "execution_count": 63
    }
   ],
   "source": [
    "x"
   ]
  },
  {
   "cell_type": "markdown",
   "metadata": {},
   "source": [
    "Si deseamos crear una copia que no interfiera con los elementos del arreglo anterior entonces debemos utilizar la función copy().  Veamos el ejemplo"
   ]
  },
  {
   "cell_type": "code",
   "execution_count": 64,
   "metadata": {
    "tags": []
   },
   "outputs": [
    {
     "output_type": "stream",
     "name": "stdout",
     "text": "[[ 0  1  2  3]\n [ 4  5  6  7]\n [ 8  9 10 11]\n [12 13 14 15]\n [16 17 18 19]]\n"
    }
   ],
   "source": [
    "x = np.array(np.arange(20)).reshape(5,4)\n",
    "print(x)"
   ]
  },
  {
   "cell_type": "code",
   "execution_count": 65,
   "metadata": {},
   "outputs": [
    {
     "output_type": "execute_result",
     "data": {
      "text/plain": "array([[ 5,  6,  7],\n       [ 9, 10, 11],\n       [13, 14, 15],\n       [17, 18, -2]])"
     },
     "metadata": {},
     "execution_count": 65
    }
   ],
   "source": [
    "y = x[1:, 1:].copy()\n",
    "y[-1,-1] = -2\n",
    "y"
   ]
  },
  {
   "cell_type": "code",
   "execution_count": 66,
   "metadata": {},
   "outputs": [
    {
     "output_type": "execute_result",
     "data": {
      "text/plain": "array([[ 0,  1,  2,  3],\n       [ 4,  5,  6,  7],\n       [ 8,  9, 10, 11],\n       [12, 13, 14, 15],\n       [16, 17, 18, 19]])"
     },
     "metadata": {},
     "execution_count": 66
    }
   ],
   "source": [
    "x"
   ]
  },
  {
   "cell_type": "markdown",
   "metadata": {},
   "source": [
    "Numpy también nos ofrece manera de tener acceso a otros elementos por medio de funciones, por ejemplo digamos que queremos la diagonal, tenemos que."
   ]
  },
  {
   "cell_type": "code",
   "execution_count": 67,
   "metadata": {},
   "outputs": [
    {
     "output_type": "execute_result",
     "data": {
      "text/plain": "array([ 0,  5, 10, 15])"
     },
     "metadata": {},
     "execution_count": 67
    }
   ],
   "source": [
    "np.diag(x)"
   ]
  },
  {
   "cell_type": "markdown",
   "metadata": {},
   "source": [
    "Si queremos los elementos en diagonal sobre ella tenemos que especificar k = 1, por defecto k = 0"
   ]
  },
  {
   "cell_type": "code",
   "execution_count": 68,
   "metadata": {},
   "outputs": [
    {
     "output_type": "execute_result",
     "data": {
      "text/plain": "array([ 1,  6, 11])"
     },
     "metadata": {},
     "execution_count": 68
    }
   ],
   "source": [
    "np.diag(x, k=1)"
   ]
  },
  {
   "cell_type": "markdown",
   "metadata": {},
   "source": [
    "Ahora si queremos los elementos en diagonal debajo de ella k = -1"
   ]
  },
  {
   "cell_type": "code",
   "execution_count": 69,
   "metadata": {},
   "outputs": [
    {
     "output_type": "execute_result",
     "data": {
      "text/plain": "array([ 4,  9, 14, 19])"
     },
     "metadata": {},
     "execution_count": 69
    }
   ],
   "source": [
    "np.diag(x, k=-1)"
   ]
  },
  {
   "cell_type": "markdown",
   "metadata": {},
   "source": [
    "Digamos también que queremos solamente los valores únicos de un arreglo, numpy nos ofrece una función llamada unique() que hace el trabajo."
   ]
  },
  {
   "cell_type": "code",
   "execution_count": 70,
   "metadata": {},
   "outputs": [
    {
     "output_type": "execute_result",
     "data": {
      "text/plain": "array([[1, 2, 3],\n       [4, 5, 6],\n       [7, 8, 9],\n       [1, 3, 9]])"
     },
     "metadata": {},
     "execution_count": 70
    }
   ],
   "source": [
    "x = np.array([[1,2,3],[4,5,6],[7,8,9],[1,3,9]])\n",
    "x"
   ]
  },
  {
   "cell_type": "code",
   "execution_count": 71,
   "metadata": {
    "tags": []
   },
   "outputs": [
    {
     "output_type": "stream",
     "name": "stdout",
     "text": "[1 2 3 4 5 6 7 8 9]\n"
    }
   ],
   "source": [
    "print(np.unique(x))"
   ]
  },
  {
   "cell_type": "markdown",
   "metadata": {},
   "source": [
    "#### Indexamiento booleano\n",
    "\n",
    "Hemos visto como hacer indexamiento, pero hay muchas situaciones donde no sabemos los elementos, por ejemplo cuando tenemos un arreglo inmenso de datos, digamos 1M, y de esos datos solamente queremos seleccionar aquellos que cumplan alguna condicion.\n",
    "\n",
    "Podemos utilizar argumentos booleanos en vez de indices."
   ]
  },
  {
   "cell_type": "code",
   "execution_count": 72,
   "metadata": {},
   "outputs": [
    {
     "output_type": "execute_result",
     "data": {
      "text/plain": "array([[ 0,  1,  2,  3,  4],\n       [ 5,  6,  7,  8,  9],\n       [10, 11, 12, 13, 14],\n       [15, 16, 17, 18, 19],\n       [20, 21, 22, 23, 24],\n       [25, 26, 27, 28, 29]])"
     },
     "metadata": {},
     "execution_count": 72
    }
   ],
   "source": [
    "x = np.arange(30).reshape((6,5))\n",
    "x"
   ]
  },
  {
   "cell_type": "code",
   "execution_count": 73,
   "metadata": {},
   "outputs": [
    {
     "output_type": "execute_result",
     "data": {
      "text/plain": "array([15, 16, 17, 18, 19, 20, 21, 22, 23, 24, 25, 26, 27, 28, 29])"
     },
     "metadata": {},
     "execution_count": 73
    }
   ],
   "source": [
    "x[x>14]"
   ]
  },
  {
   "cell_type": "code",
   "execution_count": 74,
   "metadata": {},
   "outputs": [
    {
     "output_type": "execute_result",
     "data": {
      "text/plain": "array([0, 1, 2, 3, 4, 5])"
     },
     "metadata": {},
     "execution_count": 74
    }
   ],
   "source": [
    "x[x<=5]"
   ]
  },
  {
   "cell_type": "code",
   "execution_count": 75,
   "metadata": {
    "tags": []
   },
   "outputs": [
    {
     "output_type": "stream",
     "name": "stdout",
     "text": "[5 6 7 8 9]\n"
    }
   ],
   "source": [
    "print(x[(x<10) & (x>4)])"
   ]
  },
  {
   "cell_type": "markdown",
   "metadata": {},
   "source": [
    "Tambien nos permite hacer operaciones, por ejemplo reasignación de un rango de valores"
   ]
  },
  {
   "cell_type": "code",
   "execution_count": 76,
   "metadata": {
    "tags": []
   },
   "outputs": [
    {
     "output_type": "stream",
     "name": "stdout",
     "text": "[[ 0  1  2  3  4]\n [ 5  6  7  8  9]\n [10 11 12 13 14]\n [15 16 17 18 19]\n [20 21 22 23 24]\n [-4 -4 -4 -4 -4]]\n"
    }
   ],
   "source": [
    "x[x>24] = -4\n",
    "print(x)"
   ]
  },
  {
   "cell_type": "markdown",
   "metadata": {},
   "source": [
    "Tambien podemos ver arreglos para observar su intersección, diferencia y unión."
   ]
  },
  {
   "cell_type": "code",
   "execution_count": 77,
   "metadata": {
    "tags": []
   },
   "outputs": [
    {
     "output_type": "stream",
     "name": "stdout",
     "text": "[2 4]\n[1 3 5]\n[1 2 3 4 5 6 7 8]\n"
    }
   ],
   "source": [
    "x = np.arange(1,6)\n",
    "y = np.array([6,7,8,2,4])\n",
    "\n",
    "print(np.intersect1d(x,y))\n",
    "print(np.setdiff1d(x,y))\n",
    "print(np.union1d(x,y))"
   ]
  },
  {
   "cell_type": "markdown",
   "metadata": {},
   "source": [
    "Ahora veamos diferentes maneras de orderar arreglos de 1-D o N-D.  Vamos a ver la marea de ordenar un arreglo sin reemplazar el arreglo original."
   ]
  },
  {
   "cell_type": "code",
   "execution_count": 78,
   "metadata": {},
   "outputs": [
    {
     "output_type": "execute_result",
     "data": {
      "text/plain": "array([14,  7,  4, 12,  6])"
     },
     "metadata": {},
     "execution_count": 78
    }
   ],
   "source": [
    "x = np.random.randint(2, 15, size=(5,))\n",
    "x"
   ]
  },
  {
   "cell_type": "code",
   "execution_count": 79,
   "metadata": {
    "tags": []
   },
   "outputs": [
    {
     "output_type": "stream",
     "name": "stdout",
     "text": "[ 4  6  7 12 14]\n[14  7  4 12  6]\n"
    }
   ],
   "source": [
    "print(np.sort(x))\n",
    "print(x)"
   ]
  },
  {
   "cell_type": "markdown",
   "metadata": {},
   "source": [
    "Ahora veamos la manera de alterar y solamente conseguir los números únicos"
   ]
  },
  {
   "cell_type": "code",
   "execution_count": 80,
   "metadata": {
    "tags": []
   },
   "outputs": [
    {
     "output_type": "stream",
     "name": "stdout",
     "text": "[ 4  6  7 12 14]\n[14  7  4 12  6]\n"
    }
   ],
   "source": [
    "print(np.sort(np.unique(x)))\n",
    "print(x)"
   ]
  },
  {
   "cell_type": "markdown",
   "metadata": {},
   "source": [
    "Si ahora queremos alterar el areglo original y que este quede modificado debemos hacerlo sobre el arreglo, es decir, como vemos en el ejemplo."
   ]
  },
  {
   "cell_type": "code",
   "execution_count": 81,
   "metadata": {
    "tags": []
   },
   "outputs": [
    {
     "output_type": "stream",
     "name": "stdout",
     "text": "[[6 5 9 6 2 5 6 3 4 4]]\n[[2 3 4 4 5 5 6 6 6 9]]\n"
    }
   ],
   "source": [
    "x = np.random.randint(2,10, size=(1,10))\n",
    "print(x)\n",
    "x.sort()\n",
    "print(x)"
   ]
  },
  {
   "cell_type": "markdown",
   "metadata": {},
   "source": [
    "La función sort() también la podemos utilizar para ordenar arreglos multidimensionales, vemos el ejemplo inferior para ordenar arreglos."
   ]
  },
  {
   "cell_type": "code",
   "execution_count": 82,
   "metadata": {
    "tags": []
   },
   "outputs": [
    {
     "output_type": "stream",
     "name": "stdout",
     "text": "[[11 11  6 14]\n [15 13  6  2]\n [ 1  2  8  5]\n [ 9  7  1 10]\n [ 7  8  1 18]]\n"
    }
   ],
   "source": [
    "x = np.random.randint(0,20, size=(5,4))\n",
    "print(x)"
   ]
  },
  {
   "cell_type": "code",
   "execution_count": 83,
   "metadata": {
    "tags": []
   },
   "outputs": [
    {
     "output_type": "stream",
     "name": "stdout",
     "text": "[[ 1  2  1  2]\n [ 7  7  1  5]\n [ 9  8  6 10]\n [11 11  6 14]\n [15 13  8 18]]\n"
    }
   ],
   "source": [
    "print(np.sort(x, axis=0))"
   ]
  },
  {
   "cell_type": "code",
   "execution_count": 84,
   "metadata": {
    "tags": []
   },
   "outputs": [
    {
     "output_type": "stream",
     "name": "stdout",
     "text": "[[ 6 11 11 14]\n [ 2  6 13 15]\n [ 1  2  5  8]\n [ 1  7  9 10]\n [ 1  7  8 18]]\n"
    }
   ],
   "source": [
    "print(np.sort(x, axis=1))"
   ]
  },
  {
   "cell_type": "markdown",
   "metadata": {},
   "source": [
    "###  Operadores aritméticos y broadcasting\n",
    "\n",
    "Veamos como podemos hacer operaciones aritméticas por arreglos en elementos (element-wise).\n",
    "\n",
    "Podemos hacerlas por medio de operadores o funciones, veamos como podemos hacer sumas, restas, multiplicacioens y divisiones"
   ]
  },
  {
   "cell_type": "code",
   "execution_count": 85,
   "metadata": {
    "tags": []
   },
   "outputs": [
    {
     "output_type": "stream",
     "name": "stdout",
     "text": "[7 9 9 1 3 5 8 9 9 7]\n[58 49 58 54 58 59 58 50 54 53]\n"
    }
   ],
   "source": [
    "x = np.random.randint(1, 10, size=(10,))\n",
    "y = np.random.randint(49, 60, size=(10,))\n",
    "\n",
    "print(x)\n",
    "print(y)"
   ]
  },
  {
   "cell_type": "code",
   "execution_count": 86,
   "metadata": {
    "tags": []
   },
   "outputs": [
    {
     "output_type": "stream",
     "name": "stdout",
     "text": "[65 58 67 55 61 64 66 59 63 60]\n[65 58 67 55 61 64 66 59 63 60]\n"
    }
   ],
   "source": [
    "print(x+y)\n",
    "print(np.add(x,y))"
   ]
  },
  {
   "cell_type": "code",
   "execution_count": 87,
   "metadata": {
    "tags": []
   },
   "outputs": [
    {
     "output_type": "stream",
     "name": "stdout",
     "text": "[-51 -40 -49 -53 -55 -54 -50 -41 -45 -46]\n[-51 -40 -49 -53 -55 -54 -50 -41 -45 -46]\n"
    }
   ],
   "source": [
    "print(x-y)\n",
    "print(np.subtract(x,y))"
   ]
  },
  {
   "cell_type": "code",
   "execution_count": 88,
   "metadata": {
    "tags": []
   },
   "outputs": [
    {
     "output_type": "stream",
     "name": "stdout",
     "text": "[406 441 522  54 174 295 464 450 486 371]\n[406 441 522  54 174 295 464 450 486 371]\n"
    }
   ],
   "source": [
    "print(x*y)\n",
    "print(np.multiply(x,y))"
   ]
  },
  {
   "cell_type": "code",
   "execution_count": 89,
   "metadata": {
    "tags": []
   },
   "outputs": [
    {
     "output_type": "stream",
     "name": "stdout",
     "text": "[0.12068966 0.18367347 0.15517241 0.01851852 0.05172414 0.08474576\n 0.13793103 0.18       0.16666667 0.13207547]\n[0.12068966 0.18367347 0.15517241 0.01851852 0.05172414 0.08474576\n 0.13793103 0.18       0.16666667 0.13207547]\n"
    }
   ],
   "source": [
    "print(x/y)\n",
    "print(np.divide(x,y))"
   ]
  },
  {
   "cell_type": "markdown",
   "metadata": {},
   "source": [
    "Para que lo anterior funcione los arreglos, como lo hacemos elemento por elemento deben tener la misma dimensión o ser 'broadcastables' o retransmisibles.\n",
    "\n",
    "Podemos tambien aplicar las mismas operaciones a arreglos multidimensionales."
   ]
  },
  {
   "cell_type": "code",
   "execution_count": 90,
   "metadata": {},
   "outputs": [],
   "source": [
    "x = np.random.randint(1, 10, size=(3,4))\n",
    "y = np.random.randint(3, 20, size=(3,4))"
   ]
  },
  {
   "cell_type": "code",
   "execution_count": 91,
   "metadata": {
    "scrolled": true,
    "tags": []
   },
   "outputs": [
    {
     "output_type": "stream",
     "name": "stdout",
     "text": "[[18 18 17 22]\n [13 20 24 19]\n [25  8 13 24]]\n"
    }
   ],
   "source": [
    "print(x + y)"
   ]
  },
  {
   "cell_type": "code",
   "execution_count": 92,
   "metadata": {
    "tags": []
   },
   "outputs": [
    {
     "output_type": "stream",
     "name": "stdout",
     "text": "[[-14 -10   1  -8]\n [  1 -16 -14 -17]\n [ -9   2 -11  -6]]\n"
    }
   ],
   "source": [
    "print(x - y)"
   ]
  },
  {
   "cell_type": "code",
   "execution_count": 93,
   "metadata": {
    "tags": []
   },
   "outputs": [
    {
     "output_type": "stream",
     "name": "stdout",
     "text": "[[ 32  56  72 105]\n [ 42  36  95  18]\n [136  15  12 135]]\n"
    }
   ],
   "source": [
    "print(x*y)"
   ]
  },
  {
   "cell_type": "code",
   "execution_count": 94,
   "metadata": {
    "tags": []
   },
   "outputs": [
    {
     "output_type": "stream",
     "name": "stdout",
     "text": "[[0.125      0.28571429 1.125      0.46666667]\n [1.16666667 0.11111111 0.26315789 0.05555556]\n [0.47058824 1.66666667 0.08333333 0.6       ]]\n"
    }
   ],
   "source": [
    "print(x/y)"
   ]
  },
  {
   "cell_type": "markdown",
   "metadata": {},
   "source": [
    "Otra ventaja de numpy son sus implementaciones en funciones matemáticas y estadisticas, veamos los ejemplos"
   ]
  },
  {
   "cell_type": "code",
   "execution_count": 95,
   "metadata": {},
   "outputs": [
    {
     "output_type": "execute_result",
     "data": {
      "text/plain": "array([[2, 4, 9, 7],\n       [7, 2, 5, 1],\n       [8, 5, 1, 9]])"
     },
     "metadata": {},
     "execution_count": 95
    }
   ],
   "source": [
    "# tenemos el arreglo original x\n",
    "x"
   ]
  },
  {
   "cell_type": "code",
   "execution_count": 96,
   "metadata": {
    "tags": []
   },
   "outputs": [
    {
     "output_type": "stream",
     "name": "stdout",
     "text": "[[7.38905610e+00 5.45981500e+01 8.10308393e+03 1.09663316e+03]\n [1.09663316e+03 7.38905610e+00 1.48413159e+02 2.71828183e+00]\n [2.98095799e+03 1.48413159e+02 2.71828183e+00 8.10308393e+03]]\n"
    }
   ],
   "source": [
    "print(np.exp(x))"
   ]
  },
  {
   "cell_type": "code",
   "execution_count": 97,
   "metadata": {
    "tags": []
   },
   "outputs": [
    {
     "output_type": "stream",
     "name": "stdout",
     "text": "[[1.41421356 2.         3.         2.64575131]\n [2.64575131 1.41421356 2.23606798 1.        ]\n [2.82842712 2.23606798 1.         3.        ]]\n"
    }
   ],
   "source": [
    "print(np.sqrt(x))"
   ]
  },
  {
   "cell_type": "code",
   "execution_count": 98,
   "metadata": {
    "tags": []
   },
   "outputs": [
    {
     "output_type": "stream",
     "name": "stdout",
     "text": "[[ 4 16 81 49]\n [49  4 25  1]\n [64 25  1 81]]\n"
    }
   ],
   "source": [
    "print(np.power(x,2))"
   ]
  },
  {
   "cell_type": "code",
   "execution_count": 99,
   "metadata": {
    "scrolled": true,
    "tags": []
   },
   "outputs": [
    {
     "output_type": "stream",
     "name": "stdout",
     "text": "Suma: 60\nSuma-rows: [17 11 15 17]\nSuma-cols: [22 15 23]\nMedia: 5.0\nMedia-rows: [5.66666667 3.66666667 5.         5.66666667]\nMedia-cols: [5.5  3.75 5.75]\n"
    }
   ],
   "source": [
    "print('Suma:', x.sum())\n",
    "print('Suma-rows:', x.sum(axis=0))\n",
    "print('Suma-cols:', x.sum(axis=1))\n",
    "print('Media:', x.mean())\n",
    "print('Media-rows:',x.mean(axis=0))\n",
    "print('Media-cols:',x.mean(axis=1))"
   ]
  },
  {
   "cell_type": "code",
   "execution_count": 100,
   "metadata": {
    "tags": []
   },
   "outputs": [
    {
     "output_type": "stream",
     "name": "stdout",
     "text": "Stdev: 2.886751345948129\nMax: 9\nMin: 1\n"
    }
   ],
   "source": [
    "print('Stdev:', x.std())\n",
    "print('Max:', x.max())\n",
    "print('Min:', x.min())"
   ]
  },
  {
   "cell_type": "markdown",
   "metadata": {},
   "source": [
    "Ahora veamos como numpy puede agregar valores de constantes sin utilizar ciclos for a arreglos unidimensionales y multidimensionales."
   ]
  },
  {
   "cell_type": "code",
   "execution_count": 101,
   "metadata": {
    "tags": []
   },
   "outputs": [
    {
     "output_type": "stream",
     "name": "stdout",
     "text": "[[2 4 9 7]\n [7 2 5 1]\n [8 5 1 9]]\n"
    }
   ],
   "source": [
    "print(x)"
   ]
  },
  {
   "cell_type": "code",
   "execution_count": 102,
   "metadata": {
    "scrolled": true,
    "tags": []
   },
   "outputs": [
    {
     "output_type": "stream",
     "name": "stdout",
     "text": "[[ 4.2  6.2 11.2  9.2]\n [ 9.2  4.2  7.2  3.2]\n [10.2  7.2  3.2 11.2]]\n"
    }
   ],
   "source": [
    "print(x + 2.2)"
   ]
  },
  {
   "cell_type": "code",
   "execution_count": 103,
   "metadata": {
    "tags": []
   },
   "outputs": [
    {
     "output_type": "stream",
     "name": "stdout",
     "text": "[[-0.8 -2.8 -7.8 -5.8]\n [-5.8 -0.8 -3.8  0.2]\n [-6.8 -3.8  0.2 -7.8]]\n"
    }
   ],
   "source": [
    "print(1.2-x)"
   ]
  },
  {
   "cell_type": "code",
   "execution_count": 104,
   "metadata": {
    "scrolled": true,
    "tags": []
   },
   "outputs": [
    {
     "output_type": "stream",
     "name": "stdout",
     "text": "[[1.  2.  4.5 3.5]\n [3.5 1.  2.5 0.5]\n [4.  2.5 0.5 4.5]]\n"
    }
   ],
   "source": [
    "print(0.5*x)"
   ]
  },
  {
   "cell_type": "code",
   "execution_count": 105,
   "metadata": {
    "scrolled": true,
    "tags": []
   },
   "outputs": [
    {
     "output_type": "stream",
     "name": "stdout",
     "text": "[[0.5  1.   2.25 1.75]\n [1.75 0.5  1.25 0.25]\n [2.   1.25 0.25 2.25]]\n"
    }
   ],
   "source": [
    "print(x/4)"
   ]
  },
  {
   "cell_type": "markdown",
   "metadata": {},
   "source": [
    "Ahora veamos las funciones de broadcasting o retransimsibles de numpy.  Vamos a realizar dos arreglos multidimensionales pero uno incompleto y realizar operaciones"
   ]
  },
  {
   "cell_type": "code",
   "execution_count": 106,
   "metadata": {
    "tags": []
   },
   "outputs": [
    {
     "output_type": "stream",
     "name": "stdout",
     "text": "[[ 2 16  4]\n [14 16  8]\n [16  7  9]\n [ 9  7 15]\n [ 9 19  8]]\n\n[[ 5 12  6]]\n"
    }
   ],
   "source": [
    "x = np.random.randint(0,20, size=(5,3))\n",
    "y = np.random.randint(5,15, size=(1,3))\n",
    "print(x)\n",
    "print()\n",
    "print(y)"
   ]
  },
  {
   "cell_type": "code",
   "execution_count": 107,
   "metadata": {
    "tags": []
   },
   "outputs": [
    {
     "output_type": "stream",
     "name": "stdout",
     "text": "[[ 7 28 10]\n [19 28 14]\n [21 19 15]\n [14 19 21]\n [14 31 14]]\n"
    }
   ],
   "source": [
    "print(x+y)"
   ]
  },
  {
   "cell_type": "markdown",
   "metadata": {},
   "source": [
    "Observamos que la función de retransmisibilidad o broadcasting trata de sumar el arreglo si tiene las mismas dimensiones al menos en una dirección, para el caso anterior cada fila del arreglo x fue sumada con los elementos del arreglo y"
   ]
  },
  {
   "cell_type": "markdown",
   "metadata": {},
   "source": [
    "#### Intentelo ud. ahora\n",
    "\n",
    "Crear un arreglo con las siguientes especificaciones\n",
    "- 5x2x3\n",
    "- numeros consecutivos de 2 a 60 (incluyendo el número 60)\n",
    "- pasos de 2"
   ]
  },
  {
   "cell_type": "code",
   "execution_count": 108,
   "metadata": {
    "tags": []
   },
   "outputs": [
    {
     "output_type": "stream",
     "name": "stdout",
     "text": "[[[ 2  4  6]\n  [ 8 10 12]]\n\n [[14 16 18]\n  [20 22 24]]\n\n [[26 28 30]\n  [32 34 36]]\n\n [[38 40 42]\n  [44 46 48]]\n\n [[50 52 54]\n  [56 58 60]]]\n"
    }
   ],
   "source": [
    "x = np.array(np.arange(2,61,2).reshape(5,2,3))\n",
    "print(x)"
   ]
  },
  {
   "cell_type": "markdown",
   "metadata": {},
   "source": [
    "Respuesta esperada:\n",
    "```\n",
    "[[[ 2  4  6]\n",
    "  [ 8 10 12]]\n",
    "\n",
    " [[14 16 18]\n",
    "  [20 22 24]]\n",
    "\n",
    " [[26 28 30]\n",
    "  [32 34 36]]\n",
    "\n",
    " [[38 40 42]\n",
    "  [44 46 48]]\n",
    "\n",
    " [[50 52 54]\n",
    "  [56 58 60]]]\n",
    "```"
   ]
  },
  {
   "cell_type": "markdown",
   "metadata": {},
   "source": [
    "- Crear un arreglo 5x6\n",
    "- El arreglo debe contener enteros consecutivos desde 1 hasta 30 (incluyendo el 30)\n",
    "- Luego seleccione solo los numeros impares en el arreglo\n",
    "- NOTA:  No se acepta la creación del arreglo como *np.array([1,2,3...30])*"
   ]
  },
  {
   "cell_type": "code",
   "execution_count": 110,
   "metadata": {
    "scrolled": true
   },
   "outputs": [
    {
     "output_type": "execute_result",
     "data": {
      "text/plain": "array([[ 1,  2,  3,  4,  5,  6],\n       [ 7,  8,  9, 10, 11, 12],\n       [13, 14, 15, 16, 17, 18],\n       [19, 20, 21, 22, 23, 24],\n       [25, 26, 27, 28, 29, 30]])"
     },
     "metadata": {},
     "execution_count": 110
    }
   ],
   "source": [
    "a = np.array(np.arange(1,31).reshape(5,6))\n",
    "a"
   ]
  },
  {
   "cell_type": "markdown",
   "metadata": {},
   "source": [
    "Respuesta esperada:\n",
    "```\n",
    "array([[ 1,  2,  3,  4,  5,  6],\n",
    "       [ 7,  8,  9, 10, 11, 12],\n",
    "       [13, 14, 15, 16, 17, 18],\n",
    "       [19, 20, 21, 22, 23, 24],\n",
    "       [25, 26, 27, 28, 29, 30]])\n",
    "```"
   ]
  },
  {
   "cell_type": "code",
   "execution_count": 111,
   "metadata": {
    "scrolled": true,
    "tags": []
   },
   "outputs": [
    {
     "output_type": "stream",
     "name": "stdout",
     "text": "[ 1  3  5  7  9 11 13 15 17 19 21 23 25 27 29]\n"
    }
   ],
   "source": [
    "a = a[a%2 == 1]\n",
    "print(a)"
   ]
  },
  {
   "cell_type": "markdown",
   "metadata": {},
   "source": [
    "Respuesta esperada:\n",
    "```\n",
    "[ 1  3  5  7  9 11 13 15 17 19 21 23 25 27 29]\n",
    "```"
   ]
  },
  {
   "cell_type": "markdown",
   "metadata": {},
   "source": [
    "Utilice broadcasting en numpy para crear un arreglo como se especifica:\n",
    "- Arreglo 4x8\n",
    "- col1 = llena de 1s, col2 = llena de 2s ... col8 = llena de 8s"
   ]
  },
  {
   "cell_type": "code",
   "execution_count": 117,
   "metadata": {
    "tags": []
   },
   "outputs": [
    {
     "output_type": "stream",
     "name": "stdout",
     "text": "[[0. 0. 0. 0. 0. 0. 0. 0.]\n [0. 0. 0. 0. 0. 0. 0. 0.]\n [0. 0. 0. 0. 0. 0. 0. 0.]\n [0. 0. 0. 0. 0. 0. 0. 0.]]\n\n[1 2 3 4 5 6 7 8]\n"
    }
   ],
   "source": [
    "c = np.zeros((4,8))\n",
    "d = np.arange(1,9)\n",
    "print(c)\n",
    "print()\n",
    "print(d)"
   ]
  },
  {
   "cell_type": "markdown",
   "metadata": {},
   "source": [
    "Nota de ayuda:\n",
    "```\n",
    "[[0. 0. 0. 0. 0. 0. 0. 0.]\n",
    " [0. 0. 0. 0. 0. 0. 0. 0.]\n",
    " [0. 0. 0. 0. 0. 0. 0. 0.]\n",
    " [0. 0. 0. 0. 0. 0. 0. 0.]]\n",
    "\n",
    "[1 2 3 4 5 6 7 8]\n",
    "```"
   ]
  },
  {
   "cell_type": "code",
   "execution_count": 118,
   "metadata": {},
   "outputs": [
    {
     "output_type": "execute_result",
     "data": {
      "text/plain": "array([[1., 2., 3., 4., 5., 6., 7., 8.],\n       [1., 2., 3., 4., 5., 6., 7., 8.],\n       [1., 2., 3., 4., 5., 6., 7., 8.],\n       [1., 2., 3., 4., 5., 6., 7., 8.]])"
     },
     "metadata": {},
     "execution_count": 118
    }
   ],
   "source": [
    "c+d"
   ]
  },
  {
   "cell_type": "markdown",
   "metadata": {},
   "source": [
    "Respuesta esperada:\n",
    "```\n",
    "array([[1., 2., 3., 4., 5., 6., 7., 8.],\n",
    "       [1., 2., 3., 4., 5., 6., 7., 8.],\n",
    "       [1., 2., 3., 4., 5., 6., 7., 8.],\n",
    "       [1., 2., 3., 4., 5., 6., 7., 8.]])\n",
    "```"
   ]
  },
  {
   "cell_type": "markdown",
   "metadata": {},
   "source": [
    "# Pasar al notebook *Prerequisitos Numpy - Parte 2* para realizar el proyecto luego de completar los problemas de esta seccion"
   ]
  }
 ],
 "metadata": {
  "kernelspec": {
   "display_name": "Python 3.8.3 64-bit ('prereq': conda)",
   "language": "python",
   "name": "python_defaultSpec_1602642688770"
  },
  "language_info": {
   "codemirror_mode": {
    "name": "ipython",
    "version": 3
   },
   "file_extension": ".py",
   "mimetype": "text/x-python",
   "name": "python",
   "nbconvert_exporter": "python",
   "pygments_lexer": "ipython3",
   "version": "3.8.3-final"
  }
 },
 "nbformat": 4,
 "nbformat_minor": 4
}